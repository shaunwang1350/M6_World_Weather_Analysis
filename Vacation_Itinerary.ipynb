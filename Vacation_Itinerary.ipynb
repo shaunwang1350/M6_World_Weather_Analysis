{
 "cells": [
  {
   "cell_type": "markdown",
   "metadata": {},
   "source": [
    "# Module 6 Challenge: Vacation Itinerary"
   ]
  },
  {
   "cell_type": "markdown",
   "metadata": {},
   "source": [
    "### Importing needed modules"
   ]
  },
  {
   "cell_type": "code",
   "execution_count": 1,
   "metadata": {},
   "outputs": [],
   "source": [
    "import pandas as pd\n",
    "import gmaps\n",
    "import requests\n",
    "\n",
    "from config import g_key"
   ]
  },
  {
   "cell_type": "markdown",
   "metadata": {},
   "source": [
    "### Importing CSV derived from WeatherPy_Database"
   ]
  },
  {
   "cell_type": "code",
   "execution_count": 2,
   "metadata": {
    "scrolled": false
   },
   "outputs": [
    {
     "data": {
      "text/html": [
       "<div>\n",
       "<style scoped>\n",
       "    .dataframe tbody tr th:only-of-type {\n",
       "        vertical-align: middle;\n",
       "    }\n",
       "\n",
       "    .dataframe tbody tr th {\n",
       "        vertical-align: top;\n",
       "    }\n",
       "\n",
       "    .dataframe thead th {\n",
       "        text-align: right;\n",
       "    }\n",
       "</style>\n",
       "<table border=\"1\" class=\"dataframe\">\n",
       "  <thead>\n",
       "    <tr style=\"text-align: right;\">\n",
       "      <th></th>\n",
       "      <th>City_ID</th>\n",
       "      <th>City</th>\n",
       "      <th>Country</th>\n",
       "      <th>Lat</th>\n",
       "      <th>Lng</th>\n",
       "      <th>Max Temp</th>\n",
       "      <th>Humidity</th>\n",
       "      <th>Cloudiness</th>\n",
       "      <th>Wind Speed</th>\n",
       "      <th>Current Description</th>\n",
       "      <th>Rain (inches)</th>\n",
       "      <th>Snow (inches)</th>\n",
       "    </tr>\n",
       "  </thead>\n",
       "  <tbody>\n",
       "    <tr>\n",
       "      <th>0</th>\n",
       "      <td>0</td>\n",
       "      <td>Talnakh</td>\n",
       "      <td>RU</td>\n",
       "      <td>69.49</td>\n",
       "      <td>88.40</td>\n",
       "      <td>57.20</td>\n",
       "      <td>82</td>\n",
       "      <td>40</td>\n",
       "      <td>17.90</td>\n",
       "      <td>scattered clouds</td>\n",
       "      <td>0.0</td>\n",
       "      <td>0.0</td>\n",
       "    </tr>\n",
       "    <tr>\n",
       "      <th>1</th>\n",
       "      <td>1</td>\n",
       "      <td>Prado</td>\n",
       "      <td>BR</td>\n",
       "      <td>-17.34</td>\n",
       "      <td>-39.22</td>\n",
       "      <td>69.93</td>\n",
       "      <td>92</td>\n",
       "      <td>24</td>\n",
       "      <td>3.18</td>\n",
       "      <td>few clouds</td>\n",
       "      <td>0.0</td>\n",
       "      <td>0.0</td>\n",
       "    </tr>\n",
       "    <tr>\n",
       "      <th>2</th>\n",
       "      <td>2</td>\n",
       "      <td>Salalah</td>\n",
       "      <td>OM</td>\n",
       "      <td>17.02</td>\n",
       "      <td>54.09</td>\n",
       "      <td>84.20</td>\n",
       "      <td>89</td>\n",
       "      <td>90</td>\n",
       "      <td>4.70</td>\n",
       "      <td>overcast clouds</td>\n",
       "      <td>0.0</td>\n",
       "      <td>0.0</td>\n",
       "    </tr>\n",
       "    <tr>\n",
       "      <th>3</th>\n",
       "      <td>3</td>\n",
       "      <td>Clyde River</td>\n",
       "      <td>CA</td>\n",
       "      <td>70.47</td>\n",
       "      <td>-68.59</td>\n",
       "      <td>35.60</td>\n",
       "      <td>93</td>\n",
       "      <td>90</td>\n",
       "      <td>4.70</td>\n",
       "      <td>overcast clouds</td>\n",
       "      <td>0.0</td>\n",
       "      <td>0.0</td>\n",
       "    </tr>\n",
       "    <tr>\n",
       "      <th>4</th>\n",
       "      <td>4</td>\n",
       "      <td>Vestmannaeyjar</td>\n",
       "      <td>IS</td>\n",
       "      <td>63.44</td>\n",
       "      <td>-20.27</td>\n",
       "      <td>48.88</td>\n",
       "      <td>83</td>\n",
       "      <td>100</td>\n",
       "      <td>10.67</td>\n",
       "      <td>overcast clouds</td>\n",
       "      <td>0.0</td>\n",
       "      <td>0.0</td>\n",
       "    </tr>\n",
       "  </tbody>\n",
       "</table>\n",
       "</div>"
      ],
      "text/plain": [
       "   City_ID            City Country    Lat    Lng  Max Temp  Humidity  \\\n",
       "0        0         Talnakh      RU  69.49  88.40     57.20        82   \n",
       "1        1           Prado      BR -17.34 -39.22     69.93        92   \n",
       "2        2         Salalah      OM  17.02  54.09     84.20        89   \n",
       "3        3     Clyde River      CA  70.47 -68.59     35.60        93   \n",
       "4        4  Vestmannaeyjar      IS  63.44 -20.27     48.88        83   \n",
       "\n",
       "   Cloudiness  Wind Speed Current Description  Rain (inches)  Snow (inches)  \n",
       "0          40       17.90    scattered clouds            0.0            0.0  \n",
       "1          24        3.18          few clouds            0.0            0.0  \n",
       "2          90        4.70     overcast clouds            0.0            0.0  \n",
       "3          90        4.70     overcast clouds            0.0            0.0  \n",
       "4         100       10.67     overcast clouds            0.0            0.0  "
      ]
     },
     "execution_count": 2,
     "metadata": {},
     "output_type": "execute_result"
    }
   ],
   "source": [
    "city_data_df = pd.read_csv(\"weather_data/WeatherPy_vacation.csv\")\n",
    "city_data_df.head()"
   ]
  },
  {
   "cell_type": "markdown",
   "metadata": {},
   "source": [
    "### Choosing four cities that a customer might want to visit based on country input by proximity"
   ]
  },
  {
   "cell_type": "code",
   "execution_count": 3,
   "metadata": {
    "scrolled": true
   },
   "outputs": [
    {
     "name": "stdout",
     "output_type": "stream",
     "text": [
      "Which Country would like to visit? (Alpha-2 code, eg: JP, US, GB): JP\n",
      "What is the minimum temperature you would like for your trip?: 60\n",
      "What is the maximum temperature you would like for your trip?: 90\n"
     ]
    },
    {
     "data": {
      "text/plain": [
       "City_ID                                        445\n",
       "City                                          Naze\n",
       "Country                                         JP\n",
       "Lat                                          28.37\n",
       "Lng                                         129.48\n",
       "Max Temp                                        77\n",
       "Humidity                                        94\n",
       "Cloudiness                                      75\n",
       "Wind Speed                                   10.29\n",
       "Current Description    light intensity shower rain\n",
       "Rain (inches)                                    0\n",
       "Snow (inches)                                    0\n",
       "Name: 445, dtype: object"
      ]
     },
     "execution_count": 3,
     "metadata": {},
     "output_type": "execute_result"
    }
   ],
   "source": [
    "country = str(input(\"Which Country would like to visit? (Alpha-2 code, eg: JP, US, GB): \"))\n",
    "min_temp = float(input(\"What is the minimum temperature you would like for your trip?: \"))\n",
    "max_temp = float(input(\"What is the maximum temperature you would like for your trip?: \"))\n",
    "\n",
    "selected_country_df = city_data_df.loc[(city_data_df[\"Country\"] == country) & (city_data_df[\"Max Temp\"] >= min_temp) & (city_data_df[\"Max Temp\"] <= max_temp)]\n",
    "\n",
    "selected_city_1 = selected_country_df.iloc[0]\n",
    "selected_city_2 = selected_country_df.iloc[1]\n",
    "selected_city_3 = selected_country_df.iloc[2]\n",
    "selected_city_4 = selected_country_df.iloc[3]\n",
    "\n",
    "selected_city_4"
   ]
  },
  {
   "cell_type": "markdown",
   "metadata": {},
   "source": [
    "### Getting the latitude-longitude pairs for each city DataFrame as tuples"
   ]
  },
  {
   "cell_type": "code",
   "execution_count": 4,
   "metadata": {
    "scrolled": true
   },
   "outputs": [
    {
     "name": "stdout",
     "output_type": "stream",
     "text": [
      "(32.69, 128.84) (35.73, 140.83) (31.46, 131.23) (28.37, 129.48)\n"
     ]
    }
   ],
   "source": [
    "coord_city1 = (selected_city_1[3],selected_city_1[4])\n",
    "coord_city2 = (selected_city_2[3],selected_city_2[4])\n",
    "coord_city3 = (selected_city_3[3],selected_city_3[4])\n",
    "coord_city4 = (selected_city_4[3],selected_city_4[4])\n",
    "\n",
    "print(coord_city1, coord_city2, coord_city3, coord_city4)"
   ]
  },
  {
   "cell_type": "markdown",
   "metadata": {},
   "source": [
    "### Creating selected cities dataframe using .iloc function"
   ]
  },
  {
   "cell_type": "code",
   "execution_count": 5,
   "metadata": {
    "scrolled": false
   },
   "outputs": [
    {
     "data": {
      "text/html": [
       "<div>\n",
       "<style scoped>\n",
       "    .dataframe tbody tr th:only-of-type {\n",
       "        vertical-align: middle;\n",
       "    }\n",
       "\n",
       "    .dataframe tbody tr th {\n",
       "        vertical-align: top;\n",
       "    }\n",
       "\n",
       "    .dataframe thead th {\n",
       "        text-align: right;\n",
       "    }\n",
       "</style>\n",
       "<table border=\"1\" class=\"dataframe\">\n",
       "  <thead>\n",
       "    <tr style=\"text-align: right;\">\n",
       "      <th></th>\n",
       "      <th>City_ID</th>\n",
       "      <th>City</th>\n",
       "      <th>Country</th>\n",
       "      <th>Lat</th>\n",
       "      <th>Lng</th>\n",
       "      <th>Max Temp</th>\n",
       "      <th>Humidity</th>\n",
       "      <th>Cloudiness</th>\n",
       "      <th>Wind Speed</th>\n",
       "      <th>Current Description</th>\n",
       "      <th>Rain (inches)</th>\n",
       "      <th>Snow (inches)</th>\n",
       "      <th>Hotel Name</th>\n",
       "    </tr>\n",
       "  </thead>\n",
       "  <tbody>\n",
       "    <tr>\n",
       "      <th>42</th>\n",
       "      <td>42</td>\n",
       "      <td>Fukue</td>\n",
       "      <td>JP</td>\n",
       "      <td>32.69</td>\n",
       "      <td>128.84</td>\n",
       "      <td>75.2</td>\n",
       "      <td>73</td>\n",
       "      <td>40</td>\n",
       "      <td>11.41</td>\n",
       "      <td>scattered clouds</td>\n",
       "      <td>0.0</td>\n",
       "      <td>0.0</td>\n",
       "      <td>Goto Guesthouse Utojuku &amp; SA Car Rental</td>\n",
       "    </tr>\n",
       "    <tr>\n",
       "      <th>55</th>\n",
       "      <td>55</td>\n",
       "      <td>Hasaki</td>\n",
       "      <td>JP</td>\n",
       "      <td>35.73</td>\n",
       "      <td>140.83</td>\n",
       "      <td>79.0</td>\n",
       "      <td>83</td>\n",
       "      <td>75</td>\n",
       "      <td>14.99</td>\n",
       "      <td>light intensity shower rain</td>\n",
       "      <td>0.0</td>\n",
       "      <td>0.0</td>\n",
       "      <td>Inubosaki Kanko Hotel</td>\n",
       "    </tr>\n",
       "    <tr>\n",
       "      <th>288</th>\n",
       "      <td>288</td>\n",
       "      <td>Kushima</td>\n",
       "      <td>JP</td>\n",
       "      <td>31.46</td>\n",
       "      <td>131.23</td>\n",
       "      <td>80.6</td>\n",
       "      <td>61</td>\n",
       "      <td>40</td>\n",
       "      <td>13.87</td>\n",
       "      <td>scattered clouds</td>\n",
       "      <td>0.0</td>\n",
       "      <td>0.0</td>\n",
       "      <td>Hanaoka</td>\n",
       "    </tr>\n",
       "    <tr>\n",
       "      <th>445</th>\n",
       "      <td>445</td>\n",
       "      <td>Naze</td>\n",
       "      <td>JP</td>\n",
       "      <td>28.37</td>\n",
       "      <td>129.48</td>\n",
       "      <td>77.0</td>\n",
       "      <td>94</td>\n",
       "      <td>75</td>\n",
       "      <td>10.29</td>\n",
       "      <td>light intensity shower rain</td>\n",
       "      <td>0.0</td>\n",
       "      <td>0.0</td>\n",
       "      <td>奄美ポートタワーホテル</td>\n",
       "    </tr>\n",
       "  </tbody>\n",
       "</table>\n",
       "</div>"
      ],
      "text/plain": [
       "     City_ID     City Country    Lat     Lng  Max Temp  Humidity  Cloudiness  \\\n",
       "42        42    Fukue      JP  32.69  128.84      75.2        73          40   \n",
       "55        55   Hasaki      JP  35.73  140.83      79.0        83          75   \n",
       "288      288  Kushima      JP  31.46  131.23      80.6        61          40   \n",
       "445      445     Naze      JP  28.37  129.48      77.0        94          75   \n",
       "\n",
       "     Wind Speed          Current Description  Rain (inches)  Snow (inches)  \\\n",
       "42        11.41             scattered clouds            0.0            0.0   \n",
       "55        14.99  light intensity shower rain            0.0            0.0   \n",
       "288       13.87             scattered clouds            0.0            0.0   \n",
       "445       10.29  light intensity shower rain            0.0            0.0   \n",
       "\n",
       "                                  Hotel Name  \n",
       "42   Goto Guesthouse Utojuku & SA Car Rental  \n",
       "55                     Inubosaki Kanko Hotel  \n",
       "288                                  Hanaoka  \n",
       "445                              奄美ポートタワーホテル  "
      ]
     },
     "execution_count": 5,
     "metadata": {},
     "output_type": "execute_result"
    }
   ],
   "source": [
    "selected_country_df = selected_country_df.iloc[0:4]\n",
    "selected_country_df[\"Hotel Name\"] = \"\"\n",
    "\n",
    "params = {\n",
    "    \"radius\": 5000,\n",
    "    \"type\": \"lodging\",\n",
    "    \"key\": g_key\n",
    "}\n",
    "\n",
    "for index, row in selected_country_df.iterrows():\n",
    "    lat = row[\"Lat\"]\n",
    "    lng = row[\"Lng\"]\n",
    "    \n",
    "    params[\"location\"] = f\"{lat},{lng}\"\n",
    "    base_url = \"https://maps.googleapis.com/maps/api/place/nearbysearch/json\"\n",
    "    hotels = requests.get(base_url, params=params).json()\n",
    "    try:\n",
    "        selected_country_df.loc[index, \"Hotel Name\"] = hotels[\"results\"][0][\"name\"]\n",
    "    except (IndexError):\n",
    "        print(\"Hotel not found... skipping.\")\n",
    "\n",
    "selected_country_df"
   ]
  },
  {
   "cell_type": "markdown",
   "metadata": {},
   "source": [
    "### Plotting into gmaps with markers"
   ]
  },
  {
   "cell_type": "code",
   "execution_count": 14,
   "metadata": {
    "scrolled": true
   },
   "outputs": [
    {
     "data": {
      "application/vnd.jupyter.widget-view+json": {
       "model_id": "51d353fb15c74772bb79bf6a6cc5dd0d",
       "version_major": 2,
       "version_minor": 0
      },
      "text/plain": [
       "Figure(layout=FigureLayout(height='420px'))"
      ]
     },
     "metadata": {},
     "output_type": "display_data"
    }
   ],
   "source": [
    "gmaps.configure(api_key=g_key)\n",
    "\n",
    "info_box_template = \"\"\"\n",
    "<dl>\n",
    "<dt>Hotel Name</dt><dd>{Hotel Name}</dd>\n",
    "<dt>City</dt><dd>{City}</dd>\n",
    "<dt>Country</dt><dd>{Country}</dd>\n",
    "<dt>Current Weather</dt><dd>{Current Description} and {Max Temp} °F</dd>\n",
    "</dl>\n",
    "\"\"\"\n",
    "\n",
    "hotel_info = [info_box_template.format(**row) for index, row in selected_country_df.iterrows()]\n",
    "\n",
    "locations = selected_country_df[[\"Lat\", \"Lng\"]]\n",
    "fig = gmaps.figure()\n",
    "c1_to_c4 = gmaps.directions_layer(coord_city1, coord_city4, waypoints=[coord_city2, coord_city3], show_markers=False)\n",
    "marker_layer = gmaps.marker_layer(locations, info_box_content=hotel_info)\n",
    "fig.add_layer(c1_to_c4)\n",
    "fig.add_layer(marker_layer)\n",
    "\n",
    "fig"
   ]
  },
  {
   "cell_type": "code",
   "execution_count": null,
   "metadata": {},
   "outputs": [],
   "source": []
  }
 ],
 "metadata": {
  "kernelspec": {
   "display_name": "PythonData",
   "language": "python",
   "name": "pythondata"
  },
  "language_info": {
   "codemirror_mode": {
    "name": "ipython",
    "version": 3
   },
   "file_extension": ".py",
   "mimetype": "text/x-python",
   "name": "python",
   "nbconvert_exporter": "python",
   "pygments_lexer": "ipython3",
   "version": "3.7.7"
  }
 },
 "nbformat": 4,
 "nbformat_minor": 4
}
